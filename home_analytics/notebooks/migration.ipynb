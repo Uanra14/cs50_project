{
 "cells": [
  {
   "cell_type": "code",
   "execution_count": 1,
   "id": "6d196c53",
   "metadata": {},
   "outputs": [],
   "source": [
    "import sqlite3\n",
    "import pandas as pd\n",
    "import duckdb\n",
    "\n",
    "sqlite_con = sqlite3.connect(\"../src/housing.db\")\n",
    "duck_con = duckdb.connect(\"../src/housing.duckdb\")\n",
    "\n",
    "tables = sqlite_con.execute(\"SELECT name FROM sqlite_master WHERE type='table'\").fetchall()\n",
    "\n",
    "for (table,) in tables:\n",
    "    df = pd.read_sql_query(f\"SELECT * FROM {table}\", sqlite_con)\n",
    "    duck_con.execute(f\"CREATE OR REPLACE TABLE {table} AS SELECT * FROM df\")"
   ]
  }
 ],
 "metadata": {
  "kernelspec": {
   "display_name": "myenv (3.12.3)",
   "language": "python",
   "name": "python3"
  },
  "language_info": {
   "codemirror_mode": {
    "name": "ipython",
    "version": 3
   },
   "file_extension": ".py",
   "mimetype": "text/x-python",
   "name": "python",
   "nbconvert_exporter": "python",
   "pygments_lexer": "ipython3",
   "version": "3.12.3"
  }
 },
 "nbformat": 4,
 "nbformat_minor": 5
}
