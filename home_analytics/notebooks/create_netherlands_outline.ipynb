{
 "cells": [
  {
   "cell_type": "code",
   "execution_count": 3,
   "id": "b1036483",
   "metadata": {},
   "outputs": [
    {
     "name": "stdout",
     "output_type": "stream",
     "text": [
      "✅ Outline saved to static/netherlands_outline.geojson\n"
     ]
    },
    {
     "name": "stderr",
     "output_type": "stream",
     "text": [
      "/mnt/c/Users/arnau/PythonPrograms/cs50_project/home_analytics/myenv/lib/python3.12/site-packages/pyogrio/geopandas.py:710: UserWarning: 'crs' was not provided.  The output dataset will not have projection information defined and may not be usable in other systems.\n",
      "  write(\n"
     ]
    }
   ],
   "source": [
    "import geopandas as gpd\n",
    "import json\n",
    "\n",
    "# Load your provinces GeoJSON (the heavy one)\n",
    "with open(\"../static/provinces_netherlands.geojson\") as f:\n",
    "    geo_data = json.load(f)\n",
    "\n",
    "gdf = gpd.GeoDataFrame.from_features(geo_data[\"features\"])\n",
    "\n",
    "# Compute outline once\n",
    "netherlands_outline = gdf.union_all().boundary\n",
    "\n",
    "# Save it as GeoJSON\n",
    "outline_gdf = gpd.GeoDataFrame(geometry=[netherlands_outline])\n",
    "outline_gdf.to_file(\"../static/netherlands_outline.geojson\", driver=\"GeoJSON\")\n",
    "\n",
    "print(\"✅ Outline saved to static/netherlands_outline.geojson\")"
   ]
  },
  {
   "cell_type": "code",
   "execution_count": 4,
   "id": "b8dfa664",
   "metadata": {},
   "outputs": [],
   "source": [
    "gdf = gpd.read_file(\"../static/provinces_netherlands.geojson\")\n",
    "gdf[\"geometry\"] = gdf[\"geometry\"].simplify(tolerance=0.01, preserve_topology=True)\n",
    "gdf.to_file(\"../static/provinces_simple.geojson\", driver=\"GeoJSON\")"
   ]
  }
 ],
 "metadata": {
  "kernelspec": {
   "display_name": "myenv (3.12.3)",
   "language": "python",
   "name": "python3"
  },
  "language_info": {
   "codemirror_mode": {
    "name": "ipython",
    "version": 3
   },
   "file_extension": ".py",
   "mimetype": "text/x-python",
   "name": "python",
   "nbconvert_exporter": "python",
   "pygments_lexer": "ipython3",
   "version": "3.12.3"
  }
 },
 "nbformat": 4,
 "nbformat_minor": 5
}
